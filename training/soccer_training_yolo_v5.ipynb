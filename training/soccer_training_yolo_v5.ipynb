version https://git-lfs.github.com/spec/v1
oid sha256:6981cf77756a564f2e79711defcd5ff33873c6f566a599781a20902917682d2c
size 15177
